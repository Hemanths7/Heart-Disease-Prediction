{
 "cells": [
  {
   "cell_type": "markdown",
   "id": "3cf0364b-4306-4e19-98b5-b795b8249536",
   "metadata": {},
   "source": [
    "## Heart Disease Predictor "
   ]
  },
  {
   "cell_type": "code",
   "execution_count": null,
   "id": "61eb9371-59f9-4291-b274-13520d3865b4",
   "metadata": {},
   "outputs": [],
   "source": [
    "# Import the libraries \n",
    "import numpy as np # To work with arrays \n",
    "import pandas as pd # To work with the data\n",
    "# Importing Sk learn libraries/ Modules \n",
    "from sklearn.model_selection import train_test_split # Module to split the data into training and testing \n",
    "from sklearn.linear_model import LogisticRegression # To build the model\n",
    "from sklearn.metrics import accuracy_score # Evaluation "
   ]
  },
  {
   "cell_type": "code",
   "execution_count": null,
   "id": "8488c7bd-f99b-4ce3-8207-e66ee02e29c1",
   "metadata": {},
   "outputs": [
    {
     "ename": "FileNotFoundError",
     "evalue": "The file 'Data/heart_disease_data.csv' does not exist. Please check the path.",
     "output_type": "error",
     "traceback": [
      "\u001b[31m---------------------------------------------------------------------------\u001b[39m",
      "\u001b[31mFileNotFoundError\u001b[39m                         Traceback (most recent call last)",
      "\u001b[36mCell\u001b[39m\u001b[36m \u001b[39m\u001b[32mIn[4]\u001b[39m\u001b[32m, line 7\u001b[39m\n\u001b[32m      5\u001b[39m file_path = \u001b[33m\"\u001b[39m\u001b[33mData/heart_disease_data.csv\u001b[39m\u001b[33m\"\u001b[39m\n\u001b[32m      6\u001b[39m \u001b[38;5;28;01mif\u001b[39;00m \u001b[38;5;129;01mnot\u001b[39;00m os.path.exists(file_path):\n\u001b[32m----> \u001b[39m\u001b[32m7\u001b[39m \t\u001b[38;5;28;01mraise\u001b[39;00m \u001b[38;5;167;01mFileNotFoundError\u001b[39;00m(\u001b[33mf\u001b[39m\u001b[33m\"\u001b[39m\u001b[33mThe file \u001b[39m\u001b[33m'\u001b[39m\u001b[38;5;132;01m{\u001b[39;00mfile_path\u001b[38;5;132;01m}\u001b[39;00m\u001b[33m'\u001b[39m\u001b[33m does not exist. Please check the path.\u001b[39m\u001b[33m\"\u001b[39m)\n\u001b[32m      9\u001b[39m df = pd.read_csv(file_path)\n",
      "\u001b[31mFileNotFoundError\u001b[39m: The file 'Data/heart_disease_data.csv' does not exist. Please check the path."
     ]
    }
   ],
   "source": [
    "import os\n",
    "import pandas as pd\n",
    "\n",
    "# Correct file path (no 'Data/' folder)\n",
    "file_path = \"heart_disease_data.csv\"\n",
    "\n",
    "# Check if the file exists\n",
    "if not os.path.exists(file_path):\n",
    "    raise FileNotFoundError(f\"The file '{file_path}' does not exist. Please check the path.\")\n",
    "\n",
    "# Load the CSV file\n",
    "df = pd.read_csv(file_path)\n"
   ]
  },
  {
   "cell_type": "code",
   "execution_count": null,
   "id": "b5b90c87-3b49-42d1-b13c-e8bc25dee7e1",
   "metadata": {},
   "outputs": [],
   "source": [
    "# First 5 Records \n",
    "df.head()"
   ]
  },
  {
   "cell_type": "code",
   "execution_count": null,
   "id": "31306017-a5db-4047-9f92-5acc22df84cd",
   "metadata": {},
   "outputs": [],
   "source": [
    "df.tail()"
   ]
  },
  {
   "cell_type": "code",
   "execution_count": null,
   "id": "61edff89-8930-4ff0-abaf-2442de3a1d58",
   "metadata": {},
   "outputs": [],
   "source": [
    "# Getting the dimension of our data\n",
    "df.shape"
   ]
  },
  {
   "cell_type": "code",
   "execution_count": null,
   "id": "5972fea3-bac8-42ce-91d4-7f000d502f2b",
   "metadata": {},
   "outputs": [],
   "source": [
    "df.info()"
   ]
  },
  {
   "cell_type": "code",
   "execution_count": null,
   "id": "1a5eb70d-1baf-4003-9902-68e45b41467d",
   "metadata": {},
   "outputs": [],
   "source": [
    "# missing values \n",
    "df.isnull().sum()"
   ]
  },
  {
   "cell_type": "code",
   "execution_count": null,
   "id": "bc649690-67ee-4c87-b89b-0b574a019ed8",
   "metadata": {},
   "outputs": [],
   "source": [
    "# Descriptive statistics \n",
    "df.describe()"
   ]
  },
  {
   "cell_type": "code",
   "execution_count": null,
   "id": "cfdcd051-1d14-4397-97ac-ce442860d624",
   "metadata": {},
   "outputs": [],
   "source": [
    "df['target'].value_counts()"
   ]
  },
  {
   "cell_type": "markdown",
   "id": "c69efc2d-a6a3-4cb9-a06a-930bdf1ab9ee",
   "metadata": {},
   "source": [
    "- 1 $\\rightarrow$ Heart Disease\n",
    "- 0 $\\rightarrow$ Healthy patient. "
   ]
  },
  {
   "cell_type": "markdown",
   "id": "11b49b69-e72e-43ed-8982-9a28e3467588",
   "metadata": {},
   "source": [
    "#### Splitting Features and Target"
   ]
  },
  {
   "cell_type": "code",
   "execution_count": null,
   "id": "e3ad8c50-7c33-42a1-9b77-9214d8aef341",
   "metadata": {},
   "outputs": [],
   "source": [
    "X = df.drop(columns='target', axis=1)\n",
    "X"
   ]
  },
  {
   "cell_type": "code",
   "execution_count": null,
   "id": "859db531-d6ff-41ed-b1af-5fcebfc56ec6",
   "metadata": {},
   "outputs": [],
   "source": [
    "Y = df['target']\n",
    "Y"
   ]
  },
  {
   "cell_type": "markdown",
   "id": "ee6b229e-b33f-4dfe-95d5-06ce6e5f1430",
   "metadata": {},
   "source": [
    "#### Training and Testing "
   ]
  },
  {
   "cell_type": "code",
   "execution_count": null,
   "id": "f5261d78-95b0-4f61-a7bf-f15905d640dc",
   "metadata": {},
   "outputs": [],
   "source": [
    "X_train , X_test, Y_train, Y_test = train_test_split(X, Y, test_size=0.2, stratify=Y, random_state=42)"
   ]
  },
  {
   "cell_type": "code",
   "execution_count": null,
   "id": "baa285bf-5496-4da8-99c3-c9271d0c1d99",
   "metadata": {},
   "outputs": [],
   "source": [
    "X.shape"
   ]
  },
  {
   "cell_type": "code",
   "execution_count": null,
   "id": "4bed9717-7eb1-4b4e-a0d3-6aed6430c81e",
   "metadata": {},
   "outputs": [],
   "source": [
    "X_train.shape"
   ]
  },
  {
   "cell_type": "code",
   "execution_count": null,
   "id": "61496876-c33f-421f-9709-218f72321b5b",
   "metadata": {},
   "outputs": [],
   "source": [
    "X_test.shape"
   ]
  },
  {
   "cell_type": "code",
   "execution_count": null,
   "id": "a468977a-0cee-4c5d-94f8-16d2304ee26b",
   "metadata": {},
   "outputs": [],
   "source": [
    "Y_train.shape"
   ]
  },
  {
   "cell_type": "code",
   "execution_count": null,
   "id": "06cc164a-d203-4b10-980b-863d28af5f3b",
   "metadata": {},
   "outputs": [],
   "source": [
    "Y_test.shape"
   ]
  },
  {
   "cell_type": "markdown",
   "id": "d9ef3178-c2ad-4237-81c1-d0a0dab28470",
   "metadata": {},
   "source": [
    "### Model Building \n",
    "\n",
    "LogisticRegression is used to create the model where end of the it is a binary classification. "
   ]
  },
  {
   "cell_type": "code",
   "execution_count": null,
   "id": "70cc46fc-4a69-4d63-834b-18ce988de4f3",
   "metadata": {},
   "outputs": [],
   "source": [
    "model = LogisticRegression()"
   ]
  },
  {
   "cell_type": "code",
   "execution_count": null,
   "id": "bfee7358-e525-4690-859d-306853963616",
   "metadata": {},
   "outputs": [],
   "source": [
    "# Train the model \n",
    "model.fit(X_train, Y_train)"
   ]
  },
  {
   "cell_type": "markdown",
   "id": "ea87a598-dd29-4f12-b5ce-a1e08b716376",
   "metadata": {},
   "source": [
    "### Evaluation \n"
   ]
  },
  {
   "cell_type": "code",
   "execution_count": null,
   "id": "b0cdd6a3-ca8c-426e-a728-208810de3ddf",
   "metadata": {},
   "outputs": [],
   "source": [
    "# aaccuracy_score on training data \n",
    "\n",
    "X_train_prediction = model.predict(X_train) \n",
    "training_accuracy = accuracy_score(X_train_prediction, Y_train)\n",
    "print(f\" The training accuracy is {training_accuracy}\")"
   ]
  },
  {
   "cell_type": "code",
   "execution_count": null,
   "id": "6738e943-edbe-4d83-88bc-13dd8f0022fc",
   "metadata": {},
   "outputs": [],
   "source": [
    "# aaccuracy_score on testing data \n",
    "\n",
    "X_test_prediction = model.predict(X_test) \n",
    "testing_accuracy = accuracy_score(X_test_prediction, Y_test)\n",
    "print(f\" The testing accuracy is {testing_accuracy}\")"
   ]
  },
  {
   "cell_type": "markdown",
   "id": "a0813f06-d890-4861-9d92-dabfb052eebc",
   "metadata": {},
   "source": [
    "### Building the Predicting system : "
   ]
  },
  {
   "cell_type": "code",
   "execution_count": null,
   "id": "68bfad20-8fc3-4be8-9d0e-fc7d0f5260c3",
   "metadata": {},
   "outputs": [],
   "source": [
    "# Tuple of the feature data --> Which is my input\n",
    "input_data = (51,1,3,125,213,0,0,125,1,1.4,2,1,2)\n",
    "\n",
    "# Converting it into a numpy array\n",
    "input_data = np.asarray(input_data) \n",
    "\n",
    "# Reshaping into requred input form\n",
    "input_data = input_data.reshape(1,-1) \n",
    "\n",
    "# With the input I am predicting \n",
    "prediction = model.predict(input_data)\n",
    "prediction \n",
    "\n",
    "if prediction[0] == 0:\n",
    "    print(\"Good News the patient does'nt have any heart disease\")\n",
    "else: \n",
    "    print(\"The Patient should visit the doctor Immediately\")"
   ]
  },
  {
   "cell_type": "code",
   "execution_count": null,
   "id": "de56c38d-b4c7-4729-aa3e-414856427038",
   "metadata": {},
   "outputs": [],
   "source": []
  }
 ],
 "metadata": {
  "kernelspec": {
   "display_name": "Python 3 (ipykernel)",
   "language": "python",
   "name": "python3"
  },
  "language_info": {
   "codemirror_mode": {
    "name": "ipython",
    "version": 3
   },
   "file_extension": ".py",
   "mimetype": "text/x-python",
   "name": "python",
   "nbconvert_exporter": "python",
   "pygments_lexer": "ipython3",
   "version": "3.12.1"
  }
 },
 "nbformat": 4,
 "nbformat_minor": 5
}
